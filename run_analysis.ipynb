{
 "cells": [
  {
   "cell_type": "code",
   "execution_count": null,
   "metadata": {},
   "outputs": [],
   "source": [
    "# preprocess data "
   ]
  },
  {
   "cell_type": "code",
   "execution_count": null,
   "metadata": {},
   "outputs": [],
   "source": [
    "# performing brain extraction using optiBET (brain extraction tool)\n",
    "# make sure that optiBET shell script is in the directory as the files \n",
    "import subprocess \n",
    "\n",
    "input_images = ['testing/2015_july.nii.gz', \n",
    "                'testing/2017_sept.nii.gz',\n",
    "                'testing/2021_june.nii.gz',\n",
    "                'testing/2021_aug.nii.gz']\n",
    "\n",
    "for input_image in input_images:\n",
    "    optibet_command = ['sh', 'optiBET.sh', '-i', input_image]\n",
    "    subprocess.run(optibet_command, check=False)\n"
   ]
  },
  {
   "cell_type": "code",
   "execution_count": 3,
   "metadata": {},
   "outputs": [
    {
     "name": "stdout",
     "output_type": "stream",
     "text": [
      "\n",
      "Finished. The SIENA report can be viewed by pointing your web browser at:\n",
      "file:/Users/rikio/.Trash/2015_july_to_testing/2017_sept_siena/report.html\n",
      "Estimated percentage brain volume change (PBVC) = \n",
      ".4539250000\n",
      "\n",
      "\n",
      "Finished. The SIENA report can be viewed by pointing your web browser at:\n",
      "file:/Users/rikio/Desktop/ms47/testing/2015_july_to_testing/2017_sept_siena/report.html\n",
      "Estimated percentage brain volume change (PBVC) = \n",
      ".4539250000\n",
      "\n",
      "finished running for testing/2015_july.nii.gz, testing/2017_sept.nii.gz\n",
      "Analysis for testing/2015_july.nii.gz and testing/2017_sept.nii.gz completed successfully.\n",
      "\n",
      "Finished. The SIENA report can be viewed by pointing your web browser at:\n",
      "file:/Users/rikio/Desktop/ms47/testing/2017_sept_to_testing/2021_june_siena/report.html\n",
      "Estimated percentage brain volume change (PBVC) = \n",
      ".6354050000\n",
      "\n",
      "finished running for testing/2017_sept.nii.gz, testing/2021_june.nii.gz\n",
      "Analysis for testing/2017_sept.nii.gz and testing/2021_june.nii.gz completed successfully.\n",
      "\n",
      "Finished. The SIENA report can be viewed by pointing your web browser at:\n",
      "file:/Users/rikio/Desktop/ms47/testing/2021_june_to_testing/2021_aug_siena/report.html\n",
      "Estimated percentage brain volume change (PBVC) = \n",
      ".0140900000\n",
      "\n",
      "finished running for testing/2021_june.nii.gz, testing/2021_aug.nii.gz\n",
      "Analysis for testing/2021_june.nii.gz and testing/2021_aug.nii.gz completed successfully.\n",
      "\n",
      "Finished. The SIENA report can be viewed by pointing your web browser at:\n",
      "file:/Users/rikio/Desktop/ms47/testing/2015_july_to_testing/2021_aug_siena/report.html\n",
      "Estimated percentage brain volume change (PBVC) = \n",
      "-.4250950000\n",
      "\n",
      "finished running for testing/2015_july.nii.gz, testing/2021_aug.nii.gz\n",
      "Analysis for testing/2015_july.nii.gz and testing/2021_aug.nii.gz completed successfully.\n",
      "Finished!\n"
     ]
    },
    {
     "ename": "TypeError",
     "evalue": "'int' object is not iterable",
     "output_type": "error",
     "traceback": [
      "\u001b[0;31m---------------------------------------------------------------------------\u001b[0m",
      "\u001b[0;31mTypeError\u001b[0m                                 Traceback (most recent call last)",
      "Cell \u001b[0;32mIn[3], line 36\u001b[0m\n\u001b[1;32m     32\u001b[0m         \u001b[39mprint\u001b[39m(\u001b[39mf\u001b[39m\u001b[39m'\u001b[39m\u001b[39mError running analysis for \u001b[39m\u001b[39m{\u001b[39;00minput1\u001b[39m}\u001b[39;00m\u001b[39m and \u001b[39m\u001b[39m{\u001b[39;00minput2\u001b[39m}\u001b[39;00m\u001b[39m: \u001b[39m\u001b[39m{\u001b[39;00me\u001b[39m}\u001b[39;00m\u001b[39m'\u001b[39m)\n\u001b[1;32m     34\u001b[0m \u001b[39mprint\u001b[39m(\u001b[39m'\u001b[39m\u001b[39mFinished!\u001b[39m\u001b[39m'\u001b[39m)\n\u001b[0;32m---> 36\u001b[0m \u001b[39mfor\u001b[39;00m i \u001b[39min\u001b[39;00m \u001b[39mlen\u001b[39m(execution_times):\n\u001b[1;32m     37\u001b[0m     \u001b[39mprint\u001b[39m(\u001b[39mf\u001b[39m\u001b[39m'\u001b[39m\u001b[39mProcess \u001b[39m\u001b[39m{\u001b[39;00mi\u001b[39m \u001b[39m\u001b[39m+\u001b[39m\u001b[39m \u001b[39m\u001b[39m1\u001b[39m\u001b[39m}\u001b[39;00m\u001b[39m took \u001b[39m\u001b[39m{\u001b[39;00mexecution_times[i]\u001b[39m}\u001b[39;00m\u001b[39m seconds to complete.\u001b[39m\u001b[39m'\u001b[39m)\n",
      "\u001b[0;31mTypeError\u001b[0m: 'int' object is not iterable"
     ]
    }
   ],
   "source": [
    "# run siena analysis \n",
    "\n",
    "import subprocess\n",
    "import time\n",
    "\n",
    "timepoints = [('testing/2015_july.nii.gz', 'testing/2017_sept.nii.gz'), # 7/2015 ~ 9/2017\n",
    "              ('testing/2017_sept.nii.gz', 'testing/2021_june.nii.gz'), # 9/2017 ~ 6/2021\n",
    "              ('testing/2021_june.nii.gz', 'testing/2021_aug.nii.gz'), # 6/2021 ~ 8/2021\n",
    "              ('testing/2015_july.nii.gz', 'testing/2021_aug.nii.gz')] # overall change \n",
    "\n",
    "execution_times = []\n",
    "\n",
    "for timepoint in timepoints:\n",
    "    input1, input2 = timepoint\n",
    "\n",
    "    siena_command = ['siena', input1, input2]\n",
    "\n",
    "    \n",
    "    start_time = time.time()\n",
    "    completed_process = subprocess.run(siena_command, check=False)\n",
    "    end_time = time.time() \n",
    "    duration = end_time - start_time\n",
    "    execution_times.append(duration)\n",
    "    print(f'finished running for {input1} and {input2} in {duration} seconds')\n",
    "    return_code = completed_process.returncode\n",
    "\n",
    "    duration = end_time - start_time\n",
    "    execution_times.append(duration)\n",
    "\n",
    "    if return_code == 0:\n",
    "        print(f'analysis for {input1} and {input2} completed!.')\n",
    "    else:\n",
    "        print(f'analysis for {input1} and {input2} failed with return code {return_code}')\n",
    "\n",
    "\n",
    "print('Finished with all analyses!')\n",
    "\n",
    "for i in range(len(execution_times)):\n",
    "    time = execution_times[i]\n",
    "    print(f'Process {i + 1} took {round(time // 60)} minutes and {round(time % 60)} seconds to complete.')\n"
   ]
  },
  {
   "cell_type": "code",
   "execution_count": 8,
   "metadata": {},
   "outputs": [
    {
     "name": "stdout",
     "output_type": "stream",
     "text": [
      "Process 1 took 16 minutes and 46 seconds to complete.\n",
      "Process 2 took 11 minutes and 33 seconds to complete.\n",
      "Process 3 took 13 minutes and 12 seconds to complete.\n",
      "Process 4 took 14 minutes and 10 seconds to complete.\n"
     ]
    }
   ],
   "source": [
    "for i in range(len(execution_times)):\n",
    "    time = execution_times[i]\n",
    "    print(f'Process {i + 1} took {round(time // 60)} minutes and {round(time % 60)} seconds to complete.')"
   ]
  }
 ],
 "metadata": {
  "kernelspec": {
   "display_name": "Python 3",
   "language": "python",
   "name": "python3"
  },
  "language_info": {
   "codemirror_mode": {
    "name": "ipython",
    "version": 3
   },
   "file_extension": ".py",
   "mimetype": "text/x-python",
   "name": "python",
   "nbconvert_exporter": "python",
   "pygments_lexer": "ipython3",
   "version": "3.11.5"
  },
  "orig_nbformat": 4
 },
 "nbformat": 4,
 "nbformat_minor": 2
}
